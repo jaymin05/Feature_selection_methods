{
 "cells": [
  {
   "cell_type": "markdown",
   "metadata": {},
   "source": [
    "### Feature Selection in Python \n",
    "\n",
    "This notebook demonstrates the usage of the most common Feature selection methods viz:\n",
    "a. Recursive Feature selection with the option to select the number of features\n",
    "b. Recursive Feature selection using Cross-Validation which automaticall tunes the number of features to select\n",
    "c. Feature Ranking using algorithms such as SVM, Random Forest, Lasso and Ridge\n",
    "\n",
    "We will also compare and contrasts the features selected through eac of the methods. Specifically, we want to determine the consensus among diffrent algorithms to select the signal features.\n"
   ]
  },
  {
   "cell_type": "code",
   "execution_count": 1,
   "metadata": {
    "collapsed": true
   },
   "outputs": [],
   "source": [
    "# Import the basic libraries\n",
    "import pandas as pd\n",
    "import os\n",
    "import numpy as np"
   ]
  },
  {
   "cell_type": "code",
   "execution_count": 4,
   "metadata": {
    "collapsed": true
   },
   "outputs": [],
   "source": [
    "from sklearn.feature_selection import SelectKBest\n",
    "from sklearn.feature_selection import chi2\n",
    "from sklearn.feature_selection import f_classif\n",
    "from sklearn.feature_selection import RFE,RFECV\n",
    "from sklearn.linear_model import LogisticRegression,LogisticRegressionCV,Lasso,LassoCV,RandomizedLasso,RidgeClassifierCV\n",
    "from sklearn.model_selection import RepeatedStratifiedKFold,GridSearchCV,StratifiedKFold\n",
    "from sklearn.ensemble import RandomForestClassifier\n",
    "from sklearn.svm import SVC,LinearSVC"
   ]
  },
  {
   "cell_type": "code",
   "execution_count": 2,
   "metadata": {
    "collapsed": true
   },
   "outputs": [],
   "source": [
    "os.chdir(\"c:\\\\analytics\\\\data\")"
   ]
  },
  {
   "cell_type": "code",
   "execution_count": 3,
   "metadata": {
    "collapsed": true
   },
   "outputs": [],
   "source": [
    "df = pd.read_csv(\"WA_Fn-UseC_-Telco-Customer-Churn.csv\")"
   ]
  },
  {
   "cell_type": "code",
   "execution_count": 5,
   "metadata": {},
   "outputs": [
    {
     "name": "stdout",
     "output_type": "stream",
     "text": [
      "<class 'pandas.core.frame.DataFrame'>\n",
      "RangeIndex: 7043 entries, 0 to 7042\n",
      "Data columns (total 21 columns):\n",
      "customerID          7043 non-null object\n",
      "gender              7043 non-null object\n",
      "SeniorCitizen       7043 non-null int64\n",
      "Partner             7043 non-null object\n",
      "Dependents          7043 non-null object\n",
      "tenure              7043 non-null int64\n",
      "PhoneService        7043 non-null object\n",
      "MultipleLines       7043 non-null object\n",
      "InternetService     7043 non-null object\n",
      "OnlineSecurity      7043 non-null object\n",
      "OnlineBackup        7043 non-null object\n",
      "DeviceProtection    7043 non-null object\n",
      "TechSupport         7043 non-null object\n",
      "StreamingTV         7043 non-null object\n",
      "StreamingMovies     7043 non-null object\n",
      "Contract            7043 non-null object\n",
      "PaperlessBilling    7043 non-null object\n",
      "PaymentMethod       7043 non-null object\n",
      "MonthlyCharges      7043 non-null float64\n",
      "TotalCharges        7043 non-null object\n",
      "Churn               7043 non-null object\n",
      "dtypes: float64(1), int64(2), object(18)\n",
      "memory usage: 1.1+ MB\n"
     ]
    }
   ],
   "source": [
    "df.info()\n"
   ]
  },
  {
   "cell_type": "code",
   "execution_count": 8,
   "metadata": {
    "collapsed": true
   },
   "outputs": [],
   "source": [
    "# clean the data\n",
    "labels = df.Churn.map(lambda x: 1 if x=='Yes' else 0)\n",
    "labels = labels.values\n",
    "\n",
    "nominal_cols =[]\n",
    "numeric_cols =[]\n",
    "drop_cols = ['customerID','Churn','TotalCharges']\n",
    "\n",
    "\n",
    "df['TotalCharges'] = pd.to_numeric(df['TotalCharges'],errors='coerce')\n",
    "df.TotalCharges.isnull().sum()\n",
    "df['TotalCharges'] = df['TotalCharges'].fillna(value=df.TotalCharges.median)\n",
    "df.TotalCharges.isnull().sum()\n",
    "df['TotalCharges'] = pd.to_numeric(df['TotalCharges'],errors='coerce')"
   ]
  },
  {
   "cell_type": "code",
   "execution_count": 9,
   "metadata": {
    "collapsed": true
   },
   "outputs": [],
   "source": [
    "# transform the variables as requ`ired by sklearn\n",
    "\n",
    "def transform_frame_sklearn(features,drop_cols=[]):\n",
    "    \"\"\" Transforms the dataframe to columns \"\"\"\n",
    "    numeric_cols = []\n",
    "    nominal_cols = []\n",
    "    \n",
    "    if len(drop_cols) is not 0:\n",
    "        features = features.drop(drop_cols,axis=1)\n",
    "    \n",
    "    for col in features.columns:\n",
    "        if features[col].dtype == 'O': # and features[col].nunique() <=10:\n",
    "            nominal_cols.append(col)\n",
    "            \n",
    "        else:\n",
    "            numeric_cols.append(col)\n",
    "\n",
    "    features_t = pd.get_dummies(data=features,columns=nominal_cols,drop_first=True)\n",
    "       \n",
    "    #print(features_t.columns)\n",
    "    \n",
    "    return(features_t) #,nominal_cols,numeric_cols)         \n",
    "         "
   ]
  },
  {
   "cell_type": "code",
   "execution_count": 23,
   "metadata": {
    "collapsed": true
   },
   "outputs": [],
   "source": [
    "# transform the data frame in to the form as required by skelarn libraries\n",
    "\n",
    "feature_trans = transform_frame_sklearn(df,drop_cols)\n",
    "feature_names = feature_trans.columns\n",
    "features = np.array(feature_trans)\n",
    "labels = labels"
   ]
  },
  {
   "cell_type": "code",
   "execution_count": 11,
   "metadata": {},
   "outputs": [
    {
     "data": {
      "text/plain": [
       "No     5174\n",
       "Yes    1869\n",
       "Name: Churn, dtype: int64"
      ]
     },
     "execution_count": 11,
     "metadata": {},
     "output_type": "execute_result"
    }
   ],
   "source": [
    "df.Churn.value_counts()"
   ]
  },
  {
   "cell_type": "code",
   "execution_count": 12,
   "metadata": {
    "collapsed": true
   },
   "outputs": [],
   "source": [
    "# split the data into train ans test data\n",
    "\n",
    "from sklearn.model_selection import train_test_split\n",
    "from sklearn.metrics import roc_auc_score,recall_score,precision_score,accuracy_score"
   ]
  },
  {
   "cell_type": "code",
   "execution_count": 24,
   "metadata": {
    "collapsed": true
   },
   "outputs": [],
   "source": [
    "features_train,features_test,labels_train,labels_test = train_test_split(features,labels,random_state=42)\n"
   ]
  },
  {
   "cell_type": "markdown",
   "metadata": {
    "collapsed": true
   },
   "source": [
    "### Recursive Feature Elimination first\n",
    "\n",
    "We will perform the recursive feature elination using multiple algorithms. We are interested in the following:\n",
    "\n",
    "* What are the Top Features that each algorithm selects ?\n",
    "\n",
    "* What is the validation score for each subset of features selected by the algorithm since we wish to select those features ?\n",
    "\n"
   ]
  },
  {
   "cell_type": "code",
   "execution_count": 17,
   "metadata": {
    "collapsed": true
   },
   "outputs": [],
   "source": [
    "# determines some hyper parameters\n",
    "kfold=10\n",
    "score_metric = 'recall'"
   ]
  },
  {
   "cell_type": "code",
   "execution_count": 49,
   "metadata": {
    "collapsed": true
   },
   "outputs": [],
   "source": [
    "# instantiate the classfiers\n",
    "lr = LogisticRegressionCV(penalty='l1',n_jobs=-1)\n",
    "lasso = LassoCV(n_jobs=-1,cv=kfold,random_state=42)\n",
    "ridge = RidgeClassifierCV(cv=kfold)\n",
    "rf = RandomForestClassifier(criterion='gini',n_jobs=-1,n_estimators=100,max_features='sqrt',random_state=42)\n",
    "svc = SVC(C=0.1,kernel='linear')\n",
    "\n",
    "#estimators = ['lasso','ridge','random_forest','svc']\n",
    "rfe_estimators = {'lasso':lasso,'ridge':ridge,'svc':svc,'lr':'','rf':rf}   \n",
    "\n",
    "# nunmber of features to select\n",
    "#num_features = round(np.sqrt(len(feature_names)))\n",
    "num_features = round(len(feature_names)/2)"
   ]
  },
  {
   "cell_type": "code",
   "execution_count": 50,
   "metadata": {},
   "outputs": [
    {
     "name": "stdout",
     "output_type": "stream",
     "text": [
      " Total Features: 29\n",
      "\n",
      "lasso\n",
      " Estimator LASSO selected features = 14\n",
      " Features selected are: Index(['SeniorCitizen', 'tenure', 'MonthlyCharges', 'Dependents_Yes',\n",
      "       'PhoneService_Yes', 'InternetService_Fiber optic', 'OnlineSecurity_Yes',\n",
      "       'OnlineBackup_Yes', 'DeviceProtection_Yes', 'TechSupport_Yes',\n",
      "       'Contract_One year', 'Contract_Two year', 'PaperlessBilling_Yes',\n",
      "       'PaymentMethod_Electronic check'],\n",
      "      dtype='object')\n",
      "Using the model selected 14 features, the validation scores are: \n",
      "\n",
      " ROC: 0.857, Recall:  \n",
      "\n",
      "ridge\n",
      " Estimator RIDGE selected features = 14\n",
      " Features selected are: Index(['PhoneService_Yes', 'InternetService_Fiber optic', 'InternetService_No',\n",
      "       'OnlineSecurity_Yes', 'OnlineBackup_Yes',\n",
      "       'DeviceProtection_No internet service',\n",
      "       'TechSupport_No internet service', 'TechSupport_Yes',\n",
      "       'StreamingTV_No internet service',\n",
      "       'StreamingMovies_No internet service', 'Contract_One year',\n",
      "       'Contract_Two year', 'PaperlessBilling_Yes',\n",
      "       'PaymentMethod_Electronic check'],\n",
      "      dtype='object')\n",
      "Using the model selected 14 features, the validation scores are: \n",
      "\n",
      " ROC: 0.705, Recall:  \n",
      "\n",
      "svc\n",
      " Estimator SVC selected features = 14\n",
      " Features selected are: Index(['Dependents_Yes', 'InternetService_Fiber optic',\n",
      "       'OnlineSecurity_No internet service', 'OnlineSecurity_Yes',\n",
      "       'OnlineBackup_No internet service', 'OnlineBackup_Yes',\n",
      "       'TechSupport_No internet service', 'TechSupport_Yes',\n",
      "       'StreamingTV_No internet service', 'Contract_One year',\n",
      "       'Contract_Two year', 'PaperlessBilling_Yes',\n",
      "       'PaymentMethod_Credit card (automatic)',\n",
      "       'PaymentMethod_Electronic check'],\n",
      "      dtype='object')\n",
      "Using the model selected 14 features, the validation scores are: \n",
      "\n",
      " ROC: 0.722, Recall:  \n",
      "\n",
      "lr\n",
      "\n",
      "rf\n",
      " Estimator RF selected features = 14\n",
      " Features selected are: Index(['tenure', 'MonthlyCharges', 'gender_Male', 'Partner_Yes',\n",
      "       'MultipleLines_Yes', 'InternetService_Fiber optic',\n",
      "       'OnlineSecurity_Yes', 'OnlineBackup_Yes', 'DeviceProtection_Yes',\n",
      "       'TechSupport_Yes', 'Contract_One year', 'Contract_Two year',\n",
      "       'PaperlessBilling_Yes', 'PaymentMethod_Electronic check'],\n",
      "      dtype='object')\n",
      "Using the model selected 14 features, the validation scores are: \n",
      "\n",
      " ROC: 0.694, Recall:  \n",
      "                             feature_name  lasso  ridge  svc  rf\n",
      "0                           SeniorCitizen      1      4    5   3\n",
      "1                                  tenure      1      9    7   1\n",
      "2                          MonthlyCharges      1      8    9   1\n",
      "3                             gender_Male      7      6    7   1\n",
      "4                             Partner_Yes      7      9    8   1\n",
      "5                          Dependents_Yes      1      4    1   2\n",
      "6                        PhoneService_Yes      1      1    3   7\n",
      "7          MultipleLines_No phone service      6      6    3   8\n",
      "8                       MultipleLines_Yes      5      7    6   1\n",
      "9             InternetService_Fiber optic      1      1    1   1\n",
      "10                     InternetService_No      3      1    2   6\n",
      "11     OnlineSecurity_No internet service      3      5    1   4\n",
      "12                     OnlineSecurity_Yes      1      1    1   1\n",
      "13       OnlineBackup_No internet service      8      5    1   9\n",
      "14                       OnlineBackup_Yes      1      1    1   1\n",
      "15   DeviceProtection_No internet service      9      1    4   7\n",
      "16                   DeviceProtection_Yes      1      3    8   1\n",
      "17        TechSupport_No internet service      4      1    1   9\n",
      "18                        TechSupport_Yes      1      1    1   1\n",
      "19        StreamingTV_No internet service      4      1    1   6\n",
      "20                        StreamingTV_Yes      5      7    6   4\n",
      "21    StreamingMovies_No internet service      6      1    4   8\n",
      "22                    StreamingMovies_Yes      9      2    5   3\n",
      "23                      Contract_One year      1      1    1   1\n",
      "24                      Contract_Two year      1      1    1   1\n",
      "25                   PaperlessBilling_Yes      1      1    1   1\n",
      "26  PaymentMethod_Credit card (automatic)      8      8    1   5\n",
      "27         PaymentMethod_Electronic check      1      1    1   1\n",
      "28             PaymentMethod_Mailed check      2      3    9   5\n"
     ]
    }
   ],
   "source": [
    "features_rankscore = pd.DataFrame(feature_names,columns=['feature_name'])\n",
    "\n",
    "print(\" Total Features: {}\".format(len(feature_names)))\n",
    "\n",
    "for clf,value in rfe_estimators.items():\n",
    "    print(\"\\n{}\".format(clf))\n",
    "    if value != '':\n",
    "        rfe = RFE(estimator=value,step=2,n_features_to_select=num_features)\n",
    "        rfe = rfe.fit(features_train, labels_train)\n",
    "        print(\" Estimator {} selected features = {}\".format(str.upper(clf),rfe.n_features_))\n",
    "        print(\" Features selected are: {}\".format(feature_names[rfe.support_]))\n",
    "        features_rankscore[clf]=rfe.ranking_\n",
    "        \n",
    "        #Select the features and predict on the validation data\n",
    "        #val_transform = rfe.transform(features_test)\n",
    "        #predproba_validation = rfe.predict_proba(features_test)\n",
    "        pred_labels = rfe.predict(features_test)\n",
    "        val_roc_score = roc_auc_score(labels_test,pred_labels)\n",
    "        #val_recall_score = recall_score(labels_test,pred_labels) \n",
    "        # Print the results\n",
    "        print(\"Using the model selected {} features, the validation scores are: \\n\".format(rfe.n_features_))\n",
    "        print(\" ROC: {}, Recall:  \".format(round(val_roc_score,3)))\n",
    "    else:\n",
    "        continue\n",
    "              \n",
    "print(features_rankscore)"
   ]
  },
  {
   "cell_type": "code",
   "execution_count": 51,
   "metadata": {},
   "outputs": [
    {
     "name": "stdout",
     "output_type": "stream",
     "text": [
      " Total Features: 29\n"
     ]
    }
   ],
   "source": [
    "# perform the ranking based on the algorithm\n",
    "\n",
    "              "
   ]
  },
  {
   "cell_type": "code",
   "execution_count": null,
   "metadata": {
    "collapsed": true
   },
   "outputs": [],
   "source": [
    "features_rank"
   ]
  },
  {
   "cell_type": "code",
   "execution_count": 56,
   "metadata": {
    "collapsed": true
   },
   "outputs": [],
   "source": [
    "from sklearn.linear_model import RidgeClassifier\n",
    "\n",
    "lasso = LassoCV(n_jobs=-1,cv=kfold,random_state=42)#,alphas=[0.01,0.001,0.1,1.0,10,100])\n",
    "ridge = RidgeClassifierCV(alphas=[0.01,0.001,0.1, 1.0, 10.0], cv=3, fit_intercept=True)\n",
    "rf = RandomForestClassifier(criterion='gini',n_jobs=-1,n_estimators=100,max_features='sqrt',random_state=42)\n",
    "svc = SVC(C=0.1,kernel='linear')\n",
    "\n",
    "#estimators = ['lasso','ridge','random_forest','svc']\n",
    "estimators = {'lasso':lasso,'ridge':ridge,'svc':svc,'lr':'','rf':rf,'rand_lasso':''}"
   ]
  },
  {
   "cell_type": "code",
   "execution_count": 60,
   "metadata": {},
   "outputs": [
    {
     "name": "stdout",
     "output_type": "stream",
     "text": [
      " Total Features: 29\n",
      "\n",
      "lasso\n",
      "LassoCV(alphas=None, copy_X=True, cv=10, eps=0.001, fit_intercept=True,\n",
      "    max_iter=1000, n_alphas=100, n_jobs=-1, normalize=False,\n",
      "    positive=False, precompute='auto', random_state=42, selection='cyclic',\n",
      "    tol=0.0001, verbose=False)\n",
      "['0.02', '0.00', '0.00', '0.0', '0.0', '0.01', '0.08', '0.0', '0.0', '0.02', '0.0', '0.0', '0.07', '0.0', '0.03', '0.0', '0.01', '0.0', '0.07', '0.0', '0.0', '0.0', '0.0', '0.07', '0.04', '0.03', '0.0', '0.07', '0.00']\n",
      "\n",
      "ridge\n",
      "RidgeClassifierCV(alphas=[0.01, 0.001, 0.1, 1.0, 10.0], class_weight=None,\n",
      "         cv=3, fit_intercept=True, normalize=False, scoring=None)\n",
      "\n",
      "svc\n",
      "SVC(C=0.1, cache_size=200, class_weight=None, coef0=0.0,\n",
      "  decision_function_shape='ovr', degree=3, gamma='auto', kernel='linear',\n",
      "  max_iter=-1, probability=False, random_state=None, shrinking=True,\n",
      "  tol=0.001, verbose=False)\n",
      "\n",
      "lr\n",
      "\n",
      "rf\n",
      "RandomForestClassifier(bootstrap=True, class_weight=None, criterion='gini',\n",
      "            max_depth=None, max_features='sqrt', max_leaf_nodes=None,\n",
      "            min_impurity_decrease=0.0, min_impurity_split=None,\n",
      "            min_samples_leaf=1, min_samples_split=2,\n",
      "            min_weight_fraction_leaf=0.0, n_estimators=100, n_jobs=-1,\n",
      "            oob_score=False, random_state=42, verbose=0, warm_start=False)\n",
      "\n",
      "rand_lasso\n"
     ]
    }
   ],
   "source": [
    "#%%timeit\n",
    "features_from_model = pd.DataFrame(feature_names,columns=['feature_name'])\n",
    "coeffs = []\n",
    "\n",
    "print(\" Total Features: {}\".format(len(feature_names)))\n",
    "\n",
    "for clf,value in estimators.items():\n",
    "    print(\"\\n{}\".format(clf))\n",
    "    if value != '':\n",
    "        print(eval(str(value)))\n",
    "        model = eval(str(value))\n",
    "        model = model.fit(features_train, labels_train)\n",
    "        #print(model.coef_)\n",
    "        #print(\" Estimator {} selected features = {}\".format(clf,rfe.n_features_))\n",
    "        #print(\" Features selected are: {}\".format(feature_names[rfe.support_]))\n",
    "        if clf in ['lasso']:\n",
    "            coeffs = pd.Series(np.abs(model.coef_))\n",
    "            coeffs = [str(x)[0:4] for x in coeffs]\n",
    "            print(coeffs)\n",
    "            #print(\"alpha is : {}\".format(model.alpha_))\n",
    "            #list = list(np.abs(model.coef_[0]))\n",
    "            features_from_model[clf]= pd.Series(coeffs)\n",
    "        elif clf in ['ridge','svc']:\n",
    "            coeffs = pd.Series(np.abs(model.coef_[0]))\n",
    "            coeffs = [str(x)[0:4] for x in coeffs]\n",
    "            #print(coeffs)\n",
    "            #list = list(np.abs(model.coef_[0]))\n",
    "            features_from_model[clf]= pd.Series(coeffs)\n",
    "        \n",
    "        else: \n",
    "            coeffs = pd.Series(np.abs(model.feature_importances_))\n",
    "            coeffs = [str(x)[0:4] for x in coeffs]\n",
    "            features_from_model[clf]= pd.Series(coeffs) \n",
    "    else: \n",
    "        continue"
   ]
  },
  {
   "cell_type": "code",
   "execution_count": 72,
   "metadata": {
    "collapsed": true
   },
   "outputs": [],
   "source": [
    "from sklearn.preprocessing import MinMaxScaler"
   ]
  },
  {
   "cell_type": "code",
   "execution_count": null,
   "metadata": {
    "collapsed": true
   },
   "outputs": [],
   "source": []
  },
  {
   "cell_type": "code",
   "execution_count": 74,
   "metadata": {},
   "outputs": [
    {
     "ename": "TypeError",
     "evalue": "__init__() got multiple values for argument 'self'",
     "output_type": "error",
     "traceback": [
      "\u001b[1;31m---------------------------------------------------------------------------\u001b[0m",
      "\u001b[1;31mTypeError\u001b[0m                                 Traceback (most recent call last)",
      "\u001b[1;32m<ipython-input-74-1c4d3dcb4e6d>\u001b[0m in \u001b[0;36m<module>\u001b[1;34m()\u001b[0m\n\u001b[1;32m----> 1\u001b[1;33m \u001b[0mMinMaxScaler\u001b[0m\u001b[1;33m(\u001b[0m\u001b[0mfeature_range\u001b[0m\u001b[1;33m=\u001b[0m\u001b[0mfeatures_from_model\u001b[0m\u001b[1;33m.\u001b[0m\u001b[0mlasso\u001b[0m\u001b[1;33m.\u001b[0m\u001b[0mvalues\u001b[0m\u001b[1;33m,\u001b[0m\u001b[0mself\u001b[0m\u001b[1;33m=\u001b[0m\u001b[1;32mTrue\u001b[0m\u001b[1;33m)\u001b[0m\u001b[1;33m\u001b[0m\u001b[0m\n\u001b[0m",
      "\u001b[1;31mTypeError\u001b[0m: __init__() got multiple values for argument 'self'"
     ]
    }
   ],
   "source": [
    "MinMaxScaler(feature_range=features_from_model.lasso.values,self=True)"
   ]
  },
  {
   "cell_type": "code",
   "execution_count": 109,
   "metadata": {},
   "outputs": [
    {
     "name": "stderr",
     "output_type": "stream",
     "text": [
      "C:\\Users\\JAYMIN PATEL\\Anaconda3\\lib\\site-packages\\sklearn\\utils\\validation.py:475: DataConversionWarning: Data with input dtype object was converted to float64 by MinMaxScaler.\n",
      "  warnings.warn(msg, DataConversionWarning)\n"
     ]
    },
    {
     "data": {
      "text/html": [
       "<div>\n",
       "<style>\n",
       "    .dataframe thead tr:only-child th {\n",
       "        text-align: right;\n",
       "    }\n",
       "\n",
       "    .dataframe thead th {\n",
       "        text-align: left;\n",
       "    }\n",
       "\n",
       "    .dataframe tbody tr th {\n",
       "        vertical-align: top;\n",
       "    }\n",
       "</style>\n",
       "<table border=\"1\" class=\"dataframe\">\n",
       "  <thead>\n",
       "    <tr style=\"text-align: right;\">\n",
       "      <th></th>\n",
       "      <th>0</th>\n",
       "      <th>1</th>\n",
       "      <th>2</th>\n",
       "      <th>3</th>\n",
       "    </tr>\n",
       "  </thead>\n",
       "  <tbody>\n",
       "    <tr>\n",
       "      <th>0</th>\n",
       "      <td>0.250</td>\n",
       "      <td>0.250000</td>\n",
       "      <td>0.189873</td>\n",
       "      <td>0.086957</td>\n",
       "    </tr>\n",
       "    <tr>\n",
       "      <th>1</th>\n",
       "      <td>0.000</td>\n",
       "      <td>0.000000</td>\n",
       "      <td>0.037975</td>\n",
       "      <td>1.000000</td>\n",
       "    </tr>\n",
       "    <tr>\n",
       "      <th>2</th>\n",
       "      <td>0.000</td>\n",
       "      <td>0.000000</td>\n",
       "      <td>0.012658</td>\n",
       "      <td>0.956522</td>\n",
       "    </tr>\n",
       "    <tr>\n",
       "      <th>3</th>\n",
       "      <td>0.000</td>\n",
       "      <td>0.035714</td>\n",
       "      <td>0.063291</td>\n",
       "      <td>0.130435</td>\n",
       "    </tr>\n",
       "    <tr>\n",
       "      <th>4</th>\n",
       "      <td>0.000</td>\n",
       "      <td>0.000000</td>\n",
       "      <td>0.025316</td>\n",
       "      <td>0.086957</td>\n",
       "    </tr>\n",
       "    <tr>\n",
       "      <th>5</th>\n",
       "      <td>0.125</td>\n",
       "      <td>0.142857</td>\n",
       "      <td>0.139241</td>\n",
       "      <td>0.086957</td>\n",
       "    </tr>\n",
       "    <tr>\n",
       "      <th>6</th>\n",
       "      <td>1.000</td>\n",
       "      <td>0.178571</td>\n",
       "      <td>0.430380</td>\n",
       "      <td>0.000000</td>\n",
       "    </tr>\n",
       "    <tr>\n",
       "      <th>7</th>\n",
       "      <td>0.000</td>\n",
       "      <td>0.178571</td>\n",
       "      <td>0.430380</td>\n",
       "      <td>0.000000</td>\n",
       "    </tr>\n",
       "    <tr>\n",
       "      <th>8</th>\n",
       "      <td>0.000</td>\n",
       "      <td>0.250000</td>\n",
       "      <td>0.215190</td>\n",
       "      <td>0.086957</td>\n",
       "    </tr>\n",
       "    <tr>\n",
       "      <th>9</th>\n",
       "      <td>0.250</td>\n",
       "      <td>1.000000</td>\n",
       "      <td>1.000000</td>\n",
       "      <td>0.173913</td>\n",
       "    </tr>\n",
       "    <tr>\n",
       "      <th>10</th>\n",
       "      <td>0.000</td>\n",
       "      <td>0.107143</td>\n",
       "      <td>0.012658</td>\n",
       "      <td>0.000000</td>\n",
       "    </tr>\n",
       "    <tr>\n",
       "      <th>11</th>\n",
       "      <td>0.000</td>\n",
       "      <td>0.107143</td>\n",
       "      <td>0.012658</td>\n",
       "      <td>0.000000</td>\n",
       "    </tr>\n",
       "    <tr>\n",
       "      <th>12</th>\n",
       "      <td>0.875</td>\n",
       "      <td>0.500000</td>\n",
       "      <td>0.481013</td>\n",
       "      <td>0.086957</td>\n",
       "    </tr>\n",
       "    <tr>\n",
       "      <th>13</th>\n",
       "      <td>0.000</td>\n",
       "      <td>0.107143</td>\n",
       "      <td>0.012658</td>\n",
       "      <td>0.000000</td>\n",
       "    </tr>\n",
       "    <tr>\n",
       "      <th>14</th>\n",
       "      <td>0.375</td>\n",
       "      <td>0.250000</td>\n",
       "      <td>0.253165</td>\n",
       "      <td>0.086957</td>\n",
       "    </tr>\n",
       "    <tr>\n",
       "      <th>15</th>\n",
       "      <td>0.000</td>\n",
       "      <td>0.107143</td>\n",
       "      <td>0.012658</td>\n",
       "      <td>0.000000</td>\n",
       "    </tr>\n",
       "    <tr>\n",
       "      <th>16</th>\n",
       "      <td>0.125</td>\n",
       "      <td>0.071429</td>\n",
       "      <td>0.101266</td>\n",
       "      <td>0.086957</td>\n",
       "    </tr>\n",
       "    <tr>\n",
       "      <th>17</th>\n",
       "      <td>0.000</td>\n",
       "      <td>0.107143</td>\n",
       "      <td>0.012658</td>\n",
       "      <td>0.000000</td>\n",
       "    </tr>\n",
       "    <tr>\n",
       "      <th>18</th>\n",
       "      <td>0.875</td>\n",
       "      <td>0.392857</td>\n",
       "      <td>0.430380</td>\n",
       "      <td>0.086957</td>\n",
       "    </tr>\n",
       "    <tr>\n",
       "      <th>19</th>\n",
       "      <td>0.000</td>\n",
       "      <td>0.107143</td>\n",
       "      <td>0.012658</td>\n",
       "      <td>0.000000</td>\n",
       "    </tr>\n",
       "    <tr>\n",
       "      <th>20</th>\n",
       "      <td>0.000</td>\n",
       "      <td>0.142857</td>\n",
       "      <td>0.037975</td>\n",
       "      <td>0.086957</td>\n",
       "    </tr>\n",
       "    <tr>\n",
       "      <th>21</th>\n",
       "      <td>0.000</td>\n",
       "      <td>0.107143</td>\n",
       "      <td>0.012658</td>\n",
       "      <td>0.000000</td>\n",
       "    </tr>\n",
       "    <tr>\n",
       "      <th>22</th>\n",
       "      <td>0.000</td>\n",
       "      <td>0.285714</td>\n",
       "      <td>0.075949</td>\n",
       "      <td>0.086957</td>\n",
       "    </tr>\n",
       "    <tr>\n",
       "      <th>23</th>\n",
       "      <td>0.875</td>\n",
       "      <td>0.750000</td>\n",
       "      <td>0.329114</td>\n",
       "      <td>0.086957</td>\n",
       "    </tr>\n",
       "    <tr>\n",
       "      <th>24</th>\n",
       "      <td>0.500</td>\n",
       "      <td>0.500000</td>\n",
       "      <td>0.189873</td>\n",
       "      <td>0.130435</td>\n",
       "    </tr>\n",
       "    <tr>\n",
       "      <th>25</th>\n",
       "      <td>0.375</td>\n",
       "      <td>0.285714</td>\n",
       "      <td>0.240506</td>\n",
       "      <td>0.086957</td>\n",
       "    </tr>\n",
       "    <tr>\n",
       "      <th>26</th>\n",
       "      <td>0.000</td>\n",
       "      <td>0.035714</td>\n",
       "      <td>0.063291</td>\n",
       "      <td>0.043478</td>\n",
       "    </tr>\n",
       "    <tr>\n",
       "      <th>27</th>\n",
       "      <td>0.875</td>\n",
       "      <td>0.500000</td>\n",
       "      <td>0.367089</td>\n",
       "      <td>0.130435</td>\n",
       "    </tr>\n",
       "    <tr>\n",
       "      <th>28</th>\n",
       "      <td>0.000</td>\n",
       "      <td>0.107143</td>\n",
       "      <td>0.000000</td>\n",
       "      <td>0.043478</td>\n",
       "    </tr>\n",
       "  </tbody>\n",
       "</table>\n",
       "</div>"
      ],
      "text/plain": [
       "        0         1         2         3\n",
       "0   0.250  0.250000  0.189873  0.086957\n",
       "1   0.000  0.000000  0.037975  1.000000\n",
       "2   0.000  0.000000  0.012658  0.956522\n",
       "3   0.000  0.035714  0.063291  0.130435\n",
       "4   0.000  0.000000  0.025316  0.086957\n",
       "5   0.125  0.142857  0.139241  0.086957\n",
       "6   1.000  0.178571  0.430380  0.000000\n",
       "7   0.000  0.178571  0.430380  0.000000\n",
       "8   0.000  0.250000  0.215190  0.086957\n",
       "9   0.250  1.000000  1.000000  0.173913\n",
       "10  0.000  0.107143  0.012658  0.000000\n",
       "11  0.000  0.107143  0.012658  0.000000\n",
       "12  0.875  0.500000  0.481013  0.086957\n",
       "13  0.000  0.107143  0.012658  0.000000\n",
       "14  0.375  0.250000  0.253165  0.086957\n",
       "15  0.000  0.107143  0.012658  0.000000\n",
       "16  0.125  0.071429  0.101266  0.086957\n",
       "17  0.000  0.107143  0.012658  0.000000\n",
       "18  0.875  0.392857  0.430380  0.086957\n",
       "19  0.000  0.107143  0.012658  0.000000\n",
       "20  0.000  0.142857  0.037975  0.086957\n",
       "21  0.000  0.107143  0.012658  0.000000\n",
       "22  0.000  0.285714  0.075949  0.086957\n",
       "23  0.875  0.750000  0.329114  0.086957\n",
       "24  0.500  0.500000  0.189873  0.130435\n",
       "25  0.375  0.285714  0.240506  0.086957\n",
       "26  0.000  0.035714  0.063291  0.043478\n",
       "27  0.875  0.500000  0.367089  0.130435\n",
       "28  0.000  0.107143  0.000000  0.043478"
      ]
     },
     "execution_count": 109,
     "metadata": {},
     "output_type": "execute_result"
    }
   ],
   "source": [
    "trans = scaler.fit_transform(features_from_model.iloc[:,1:].values)\n",
    "temp = pd.DataFrame(trans)\n",
    "temp"
   ]
  },
  {
   "cell_type": "code",
   "execution_count": 104,
   "metadata": {},
   "outputs": [
    {
     "data": {
      "text/html": [
       "<div>\n",
       "<style>\n",
       "    .dataframe thead tr:only-child th {\n",
       "        text-align: right;\n",
       "    }\n",
       "\n",
       "    .dataframe thead th {\n",
       "        text-align: left;\n",
       "    }\n",
       "\n",
       "    .dataframe tbody tr th {\n",
       "        vertical-align: top;\n",
       "    }\n",
       "</style>\n",
       "<table border=\"1\" class=\"dataframe\">\n",
       "  <thead>\n",
       "    <tr style=\"text-align: right;\">\n",
       "      <th></th>\n",
       "      <th>feature_name</th>\n",
       "      <th>lasso</th>\n",
       "      <th>ridge</th>\n",
       "      <th>svc</th>\n",
       "      <th>rf</th>\n",
       "    </tr>\n",
       "  </thead>\n",
       "  <tbody>\n",
       "    <tr>\n",
       "      <th>0</th>\n",
       "      <td>SeniorCitizen</td>\n",
       "      <td>0.02</td>\n",
       "      <td>0.07</td>\n",
       "      <td>0.15</td>\n",
       "      <td>0.02</td>\n",
       "    </tr>\n",
       "    <tr>\n",
       "      <th>1</th>\n",
       "      <td>tenure</td>\n",
       "      <td>0.00</td>\n",
       "      <td>0.00</td>\n",
       "      <td>0.03</td>\n",
       "      <td>0.23</td>\n",
       "    </tr>\n",
       "    <tr>\n",
       "      <th>2</th>\n",
       "      <td>MonthlyCharges</td>\n",
       "      <td>0.00</td>\n",
       "      <td>0.00</td>\n",
       "      <td>0.01</td>\n",
       "      <td>0.22</td>\n",
       "    </tr>\n",
       "    <tr>\n",
       "      <th>3</th>\n",
       "      <td>gender_Male</td>\n",
       "      <td>0.0</td>\n",
       "      <td>0.01</td>\n",
       "      <td>0.05</td>\n",
       "      <td>0.03</td>\n",
       "    </tr>\n",
       "    <tr>\n",
       "      <th>4</th>\n",
       "      <td>Partner_Yes</td>\n",
       "      <td>0.0</td>\n",
       "      <td>0.00</td>\n",
       "      <td>0.02</td>\n",
       "      <td>0.02</td>\n",
       "    </tr>\n",
       "    <tr>\n",
       "      <th>5</th>\n",
       "      <td>Dependents_Yes</td>\n",
       "      <td>0.01</td>\n",
       "      <td>0.04</td>\n",
       "      <td>0.11</td>\n",
       "      <td>0.02</td>\n",
       "    </tr>\n",
       "    <tr>\n",
       "      <th>6</th>\n",
       "      <td>PhoneService_Yes</td>\n",
       "      <td>0.08</td>\n",
       "      <td>0.05</td>\n",
       "      <td>0.34</td>\n",
       "      <td>0.00</td>\n",
       "    </tr>\n",
       "    <tr>\n",
       "      <th>7</th>\n",
       "      <td>MultipleLines_No phone service</td>\n",
       "      <td>0.0</td>\n",
       "      <td>0.05</td>\n",
       "      <td>0.34</td>\n",
       "      <td>0.00</td>\n",
       "    </tr>\n",
       "    <tr>\n",
       "      <th>8</th>\n",
       "      <td>MultipleLines_Yes</td>\n",
       "      <td>0.0</td>\n",
       "      <td>0.07</td>\n",
       "      <td>0.17</td>\n",
       "      <td>0.02</td>\n",
       "    </tr>\n",
       "    <tr>\n",
       "      <th>9</th>\n",
       "      <td>InternetService_Fiber optic</td>\n",
       "      <td>0.02</td>\n",
       "      <td>0.28</td>\n",
       "      <td>0.79</td>\n",
       "      <td>0.04</td>\n",
       "    </tr>\n",
       "    <tr>\n",
       "      <th>10</th>\n",
       "      <td>InternetService_No</td>\n",
       "      <td>0.0</td>\n",
       "      <td>0.03</td>\n",
       "      <td>0.01</td>\n",
       "      <td>0.00</td>\n",
       "    </tr>\n",
       "    <tr>\n",
       "      <th>11</th>\n",
       "      <td>OnlineSecurity_No internet service</td>\n",
       "      <td>0.0</td>\n",
       "      <td>0.03</td>\n",
       "      <td>0.01</td>\n",
       "      <td>0.00</td>\n",
       "    </tr>\n",
       "    <tr>\n",
       "      <th>12</th>\n",
       "      <td>OnlineSecurity_Yes</td>\n",
       "      <td>0.07</td>\n",
       "      <td>0.14</td>\n",
       "      <td>0.38</td>\n",
       "      <td>0.02</td>\n",
       "    </tr>\n",
       "    <tr>\n",
       "      <th>13</th>\n",
       "      <td>OnlineBackup_No internet service</td>\n",
       "      <td>0.0</td>\n",
       "      <td>0.03</td>\n",
       "      <td>0.01</td>\n",
       "      <td>0.00</td>\n",
       "    </tr>\n",
       "    <tr>\n",
       "      <th>14</th>\n",
       "      <td>OnlineBackup_Yes</td>\n",
       "      <td>0.03</td>\n",
       "      <td>0.07</td>\n",
       "      <td>0.20</td>\n",
       "      <td>0.02</td>\n",
       "    </tr>\n",
       "    <tr>\n",
       "      <th>15</th>\n",
       "      <td>DeviceProtection_No internet service</td>\n",
       "      <td>0.0</td>\n",
       "      <td>0.03</td>\n",
       "      <td>0.01</td>\n",
       "      <td>0.00</td>\n",
       "    </tr>\n",
       "    <tr>\n",
       "      <th>16</th>\n",
       "      <td>DeviceProtection_Yes</td>\n",
       "      <td>0.01</td>\n",
       "      <td>0.02</td>\n",
       "      <td>0.08</td>\n",
       "      <td>0.02</td>\n",
       "    </tr>\n",
       "    <tr>\n",
       "      <th>17</th>\n",
       "      <td>TechSupport_No internet service</td>\n",
       "      <td>0.0</td>\n",
       "      <td>0.03</td>\n",
       "      <td>0.01</td>\n",
       "      <td>0.00</td>\n",
       "    </tr>\n",
       "    <tr>\n",
       "      <th>18</th>\n",
       "      <td>TechSupport_Yes</td>\n",
       "      <td>0.07</td>\n",
       "      <td>0.11</td>\n",
       "      <td>0.34</td>\n",
       "      <td>0.02</td>\n",
       "    </tr>\n",
       "    <tr>\n",
       "      <th>19</th>\n",
       "      <td>StreamingTV_No internet service</td>\n",
       "      <td>0.0</td>\n",
       "      <td>0.03</td>\n",
       "      <td>0.01</td>\n",
       "      <td>0.00</td>\n",
       "    </tr>\n",
       "    <tr>\n",
       "      <th>20</th>\n",
       "      <td>StreamingTV_Yes</td>\n",
       "      <td>0.0</td>\n",
       "      <td>0.04</td>\n",
       "      <td>0.03</td>\n",
       "      <td>0.02</td>\n",
       "    </tr>\n",
       "    <tr>\n",
       "      <th>21</th>\n",
       "      <td>StreamingMovies_No internet service</td>\n",
       "      <td>0.0</td>\n",
       "      <td>0.03</td>\n",
       "      <td>0.01</td>\n",
       "      <td>0.00</td>\n",
       "    </tr>\n",
       "    <tr>\n",
       "      <th>22</th>\n",
       "      <td>StreamingMovies_Yes</td>\n",
       "      <td>0.0</td>\n",
       "      <td>0.08</td>\n",
       "      <td>0.06</td>\n",
       "      <td>0.02</td>\n",
       "    </tr>\n",
       "    <tr>\n",
       "      <th>23</th>\n",
       "      <td>Contract_One year</td>\n",
       "      <td>0.07</td>\n",
       "      <td>0.21</td>\n",
       "      <td>0.26</td>\n",
       "      <td>0.02</td>\n",
       "    </tr>\n",
       "    <tr>\n",
       "      <th>24</th>\n",
       "      <td>Contract_Two year</td>\n",
       "      <td>0.04</td>\n",
       "      <td>0.14</td>\n",
       "      <td>0.15</td>\n",
       "      <td>0.03</td>\n",
       "    </tr>\n",
       "    <tr>\n",
       "      <th>25</th>\n",
       "      <td>PaperlessBilling_Yes</td>\n",
       "      <td>0.03</td>\n",
       "      <td>0.08</td>\n",
       "      <td>0.19</td>\n",
       "      <td>0.02</td>\n",
       "    </tr>\n",
       "    <tr>\n",
       "      <th>26</th>\n",
       "      <td>PaymentMethod_Credit card (automatic)</td>\n",
       "      <td>0.0</td>\n",
       "      <td>0.01</td>\n",
       "      <td>0.05</td>\n",
       "      <td>0.01</td>\n",
       "    </tr>\n",
       "    <tr>\n",
       "      <th>27</th>\n",
       "      <td>PaymentMethod_Electronic check</td>\n",
       "      <td>0.07</td>\n",
       "      <td>0.14</td>\n",
       "      <td>0.29</td>\n",
       "      <td>0.03</td>\n",
       "    </tr>\n",
       "    <tr>\n",
       "      <th>28</th>\n",
       "      <td>PaymentMethod_Mailed check</td>\n",
       "      <td>0.00</td>\n",
       "      <td>0.03</td>\n",
       "      <td>0.00</td>\n",
       "      <td>0.01</td>\n",
       "    </tr>\n",
       "  </tbody>\n",
       "</table>\n",
       "</div>"
      ],
      "text/plain": [
       "                             feature_name lasso ridge   svc    rf\n",
       "0                           SeniorCitizen  0.02  0.07  0.15  0.02\n",
       "1                                  tenure  0.00  0.00  0.03  0.23\n",
       "2                          MonthlyCharges  0.00  0.00  0.01  0.22\n",
       "3                             gender_Male   0.0  0.01  0.05  0.03\n",
       "4                             Partner_Yes   0.0  0.00  0.02  0.02\n",
       "5                          Dependents_Yes  0.01  0.04  0.11  0.02\n",
       "6                        PhoneService_Yes  0.08  0.05  0.34  0.00\n",
       "7          MultipleLines_No phone service   0.0  0.05  0.34  0.00\n",
       "8                       MultipleLines_Yes   0.0  0.07  0.17  0.02\n",
       "9             InternetService_Fiber optic  0.02  0.28  0.79  0.04\n",
       "10                     InternetService_No   0.0  0.03  0.01  0.00\n",
       "11     OnlineSecurity_No internet service   0.0  0.03  0.01  0.00\n",
       "12                     OnlineSecurity_Yes  0.07  0.14  0.38  0.02\n",
       "13       OnlineBackup_No internet service   0.0  0.03  0.01  0.00\n",
       "14                       OnlineBackup_Yes  0.03  0.07  0.20  0.02\n",
       "15   DeviceProtection_No internet service   0.0  0.03  0.01  0.00\n",
       "16                   DeviceProtection_Yes  0.01  0.02  0.08  0.02\n",
       "17        TechSupport_No internet service   0.0  0.03  0.01  0.00\n",
       "18                        TechSupport_Yes  0.07  0.11  0.34  0.02\n",
       "19        StreamingTV_No internet service   0.0  0.03  0.01  0.00\n",
       "20                        StreamingTV_Yes   0.0  0.04  0.03  0.02\n",
       "21    StreamingMovies_No internet service   0.0  0.03  0.01  0.00\n",
       "22                    StreamingMovies_Yes   0.0  0.08  0.06  0.02\n",
       "23                      Contract_One year  0.07  0.21  0.26  0.02\n",
       "24                      Contract_Two year  0.04  0.14  0.15  0.03\n",
       "25                   PaperlessBilling_Yes  0.03  0.08  0.19  0.02\n",
       "26  PaymentMethod_Credit card (automatic)   0.0  0.01  0.05  0.01\n",
       "27         PaymentMethod_Electronic check  0.07  0.14  0.29  0.03\n",
       "28             PaymentMethod_Mailed check  0.00  0.03  0.00  0.01"
      ]
     },
     "execution_count": 104,
     "metadata": {},
     "output_type": "execute_result"
    }
   ],
   "source": []
  },
  {
   "cell_type": "code",
   "execution_count": 96,
   "metadata": {},
   "outputs": [
    {
     "ename": "ValueError",
     "evalue": "Expected 2D array, got 1D array instead:\narray=[ 0.02  0.    0.    0.    0.    0.01  0.08  0.    0.    0.02  0.    0.\n  0.07  0.    0.03  0.    0.01  0.    0.07  0.    0.    0.    0.    0.07\n  0.04  0.03  0.    0.07  0.  ].\nReshape your data either using array.reshape(-1, 1) if your data has a single feature or array.reshape(1, -1) if it contains a single sample.",
     "output_type": "error",
     "traceback": [
      "\u001b[1;31m---------------------------------------------------------------------------\u001b[0m",
      "\u001b[1;31mValueError\u001b[0m                                Traceback (most recent call last)",
      "\u001b[1;32m<ipython-input-96-049cf8f03055>\u001b[0m in \u001b[0;36m<module>\u001b[1;34m()\u001b[0m\n\u001b[1;32m----> 1\u001b[1;33m \u001b[0mscaler\u001b[0m\u001b[1;33m.\u001b[0m\u001b[0mfit\u001b[0m\u001b[1;33m(\u001b[0m\u001b[0mnp\u001b[0m\u001b[1;33m.\u001b[0m\u001b[0marray\u001b[0m\u001b[1;33m(\u001b[0m\u001b[0mfeatures_from_model\u001b[0m\u001b[1;33m.\u001b[0m\u001b[0mlasso\u001b[0m\u001b[1;33m.\u001b[0m\u001b[0mvalues\u001b[0m\u001b[1;33m)\u001b[0m\u001b[1;33m)\u001b[0m\u001b[1;33m\u001b[0m\u001b[0m\n\u001b[0m",
      "\u001b[1;32m~\\Anaconda3\\lib\\site-packages\\sklearn\\preprocessing\\data.py\u001b[0m in \u001b[0;36mfit\u001b[1;34m(self, X, y)\u001b[0m\n\u001b[0;32m    306\u001b[0m         \u001b[1;31m# Reset internal state before fitting\u001b[0m\u001b[1;33m\u001b[0m\u001b[1;33m\u001b[0m\u001b[0m\n\u001b[0;32m    307\u001b[0m         \u001b[0mself\u001b[0m\u001b[1;33m.\u001b[0m\u001b[0m_reset\u001b[0m\u001b[1;33m(\u001b[0m\u001b[1;33m)\u001b[0m\u001b[1;33m\u001b[0m\u001b[0m\n\u001b[1;32m--> 308\u001b[1;33m         \u001b[1;32mreturn\u001b[0m \u001b[0mself\u001b[0m\u001b[1;33m.\u001b[0m\u001b[0mpartial_fit\u001b[0m\u001b[1;33m(\u001b[0m\u001b[0mX\u001b[0m\u001b[1;33m,\u001b[0m \u001b[0my\u001b[0m\u001b[1;33m)\u001b[0m\u001b[1;33m\u001b[0m\u001b[0m\n\u001b[0m\u001b[0;32m    309\u001b[0m \u001b[1;33m\u001b[0m\u001b[0m\n\u001b[0;32m    310\u001b[0m     \u001b[1;32mdef\u001b[0m \u001b[0mpartial_fit\u001b[0m\u001b[1;33m(\u001b[0m\u001b[0mself\u001b[0m\u001b[1;33m,\u001b[0m \u001b[0mX\u001b[0m\u001b[1;33m,\u001b[0m \u001b[0my\u001b[0m\u001b[1;33m=\u001b[0m\u001b[1;32mNone\u001b[0m\u001b[1;33m)\u001b[0m\u001b[1;33m:\u001b[0m\u001b[1;33m\u001b[0m\u001b[0m\n",
      "\u001b[1;32m~\\Anaconda3\\lib\\site-packages\\sklearn\\preprocessing\\data.py\u001b[0m in \u001b[0;36mpartial_fit\u001b[1;34m(self, X, y)\u001b[0m\n\u001b[0;32m    332\u001b[0m \u001b[1;33m\u001b[0m\u001b[0m\n\u001b[0;32m    333\u001b[0m         X = check_array(X, copy=self.copy, warn_on_dtype=True,\n\u001b[1;32m--> 334\u001b[1;33m                         estimator=self, dtype=FLOAT_DTYPES)\n\u001b[0m\u001b[0;32m    335\u001b[0m \u001b[1;33m\u001b[0m\u001b[0m\n\u001b[0;32m    336\u001b[0m         \u001b[0mdata_min\u001b[0m \u001b[1;33m=\u001b[0m \u001b[0mnp\u001b[0m\u001b[1;33m.\u001b[0m\u001b[0mmin\u001b[0m\u001b[1;33m(\u001b[0m\u001b[0mX\u001b[0m\u001b[1;33m,\u001b[0m \u001b[0maxis\u001b[0m\u001b[1;33m=\u001b[0m\u001b[1;36m0\u001b[0m\u001b[1;33m)\u001b[0m\u001b[1;33m\u001b[0m\u001b[0m\n",
      "\u001b[1;32m~\\Anaconda3\\lib\\site-packages\\sklearn\\utils\\validation.py\u001b[0m in \u001b[0;36mcheck_array\u001b[1;34m(array, accept_sparse, dtype, order, copy, force_all_finite, ensure_2d, allow_nd, ensure_min_samples, ensure_min_features, warn_on_dtype, estimator)\u001b[0m\n\u001b[0;32m    439\u001b[0m                     \u001b[1;34m\"Reshape your data either using array.reshape(-1, 1) if \"\u001b[0m\u001b[1;33m\u001b[0m\u001b[0m\n\u001b[0;32m    440\u001b[0m                     \u001b[1;34m\"your data has a single feature or array.reshape(1, -1) \"\u001b[0m\u001b[1;33m\u001b[0m\u001b[0m\n\u001b[1;32m--> 441\u001b[1;33m                     \"if it contains a single sample.\".format(array))\n\u001b[0m\u001b[0;32m    442\u001b[0m             \u001b[0marray\u001b[0m \u001b[1;33m=\u001b[0m \u001b[0mnp\u001b[0m\u001b[1;33m.\u001b[0m\u001b[0matleast_2d\u001b[0m\u001b[1;33m(\u001b[0m\u001b[0marray\u001b[0m\u001b[1;33m)\u001b[0m\u001b[1;33m\u001b[0m\u001b[0m\n\u001b[0;32m    443\u001b[0m             \u001b[1;31m# To ensure that array flags are maintained\u001b[0m\u001b[1;33m\u001b[0m\u001b[1;33m\u001b[0m\u001b[0m\n",
      "\u001b[1;31mValueError\u001b[0m: Expected 2D array, got 1D array instead:\narray=[ 0.02  0.    0.    0.    0.    0.01  0.08  0.    0.    0.02  0.    0.\n  0.07  0.    0.03  0.    0.01  0.    0.07  0.    0.    0.    0.    0.07\n  0.04  0.03  0.    0.07  0.  ].\nReshape your data either using array.reshape(-1, 1) if your data has a single feature or array.reshape(1, -1) if it contains a single sample."
     ]
    }
   ],
   "source": [
    "scaler.fit(np.array(features_from_model.lasso.values))"
   ]
  },
  {
   "cell_type": "code",
   "execution_count": 86,
   "metadata": {},
   "outputs": [
    {
     "ename": "ValueError",
     "evalue": "Expected 2D array, got 1D array instead:\narray=[ 0.02  0.    0.    0.    0.    0.01  0.08  0.    0.    0.02  0.    0.\n  0.07  0.    0.03  0.    0.01  0.    0.07  0.    0.    0.    0.    0.07\n  0.04  0.03  0.    0.07  0.  ].\nReshape your data either using array.reshape(-1, 1) if your data has a single feature or array.reshape(1, -1) if it contains a single sample.",
     "output_type": "error",
     "traceback": [
      "\u001b[1;31m---------------------------------------------------------------------------\u001b[0m",
      "\u001b[1;31mValueError\u001b[0m                                Traceback (most recent call last)",
      "\u001b[1;32m<ipython-input-86-065c2a9e68c6>\u001b[0m in \u001b[0;36m<module>\u001b[1;34m()\u001b[0m\n\u001b[0;32m      7\u001b[0m \u001b[1;32mfor\u001b[0m \u001b[0mcol\u001b[0m \u001b[1;32min\u001b[0m \u001b[0mfeatures_from_model\u001b[0m\u001b[1;33m.\u001b[0m\u001b[0mcolumns\u001b[0m\u001b[1;33m:\u001b[0m\u001b[1;33m\u001b[0m\u001b[0m\n\u001b[0;32m      8\u001b[0m     \u001b[1;32mif\u001b[0m \u001b[0mcol\u001b[0m \u001b[1;33m!=\u001b[0m \u001b[1;34m'feature_name'\u001b[0m\u001b[1;33m:\u001b[0m\u001b[1;33m\u001b[0m\u001b[0m\n\u001b[1;32m----> 9\u001b[1;33m         \u001b[0mfeatures_from_model\u001b[0m\u001b[1;33m[\u001b[0m\u001b[0mcol\u001b[0m\u001b[1;33m]\u001b[0m \u001b[1;33m=\u001b[0m \u001b[0mscaler\u001b[0m\u001b[1;33m.\u001b[0m\u001b[0mfit_transform\u001b[0m\u001b[1;33m(\u001b[0m\u001b[0mnp\u001b[0m\u001b[1;33m.\u001b[0m\u001b[0marray\u001b[0m\u001b[1;33m(\u001b[0m\u001b[0mfeatures_from_model\u001b[0m\u001b[1;33m[\u001b[0m\u001b[0mcol\u001b[0m\u001b[1;33m]\u001b[0m\u001b[1;33m.\u001b[0m\u001b[0mvalues\u001b[0m\u001b[1;33m)\u001b[0m\u001b[1;33m)\u001b[0m\u001b[1;33m\u001b[0m\u001b[0m\n\u001b[0m\u001b[0;32m     10\u001b[0m \u001b[1;33m\u001b[0m\u001b[0m\n",
      "\u001b[1;32m~\\Anaconda3\\lib\\site-packages\\sklearn\\base.py\u001b[0m in \u001b[0;36mfit_transform\u001b[1;34m(self, X, y, **fit_params)\u001b[0m\n\u001b[0;32m    515\u001b[0m         \u001b[1;32mif\u001b[0m \u001b[0my\u001b[0m \u001b[1;32mis\u001b[0m \u001b[1;32mNone\u001b[0m\u001b[1;33m:\u001b[0m\u001b[1;33m\u001b[0m\u001b[0m\n\u001b[0;32m    516\u001b[0m             \u001b[1;31m# fit method of arity 1 (unsupervised transformation)\u001b[0m\u001b[1;33m\u001b[0m\u001b[1;33m\u001b[0m\u001b[0m\n\u001b[1;32m--> 517\u001b[1;33m             \u001b[1;32mreturn\u001b[0m \u001b[0mself\u001b[0m\u001b[1;33m.\u001b[0m\u001b[0mfit\u001b[0m\u001b[1;33m(\u001b[0m\u001b[0mX\u001b[0m\u001b[1;33m,\u001b[0m \u001b[1;33m**\u001b[0m\u001b[0mfit_params\u001b[0m\u001b[1;33m)\u001b[0m\u001b[1;33m.\u001b[0m\u001b[0mtransform\u001b[0m\u001b[1;33m(\u001b[0m\u001b[0mX\u001b[0m\u001b[1;33m)\u001b[0m\u001b[1;33m\u001b[0m\u001b[0m\n\u001b[0m\u001b[0;32m    518\u001b[0m         \u001b[1;32melse\u001b[0m\u001b[1;33m:\u001b[0m\u001b[1;33m\u001b[0m\u001b[0m\n\u001b[0;32m    519\u001b[0m             \u001b[1;31m# fit method of arity 2 (supervised transformation)\u001b[0m\u001b[1;33m\u001b[0m\u001b[1;33m\u001b[0m\u001b[0m\n",
      "\u001b[1;32m~\\Anaconda3\\lib\\site-packages\\sklearn\\preprocessing\\data.py\u001b[0m in \u001b[0;36mfit\u001b[1;34m(self, X, y)\u001b[0m\n\u001b[0;32m    306\u001b[0m         \u001b[1;31m# Reset internal state before fitting\u001b[0m\u001b[1;33m\u001b[0m\u001b[1;33m\u001b[0m\u001b[0m\n\u001b[0;32m    307\u001b[0m         \u001b[0mself\u001b[0m\u001b[1;33m.\u001b[0m\u001b[0m_reset\u001b[0m\u001b[1;33m(\u001b[0m\u001b[1;33m)\u001b[0m\u001b[1;33m\u001b[0m\u001b[0m\n\u001b[1;32m--> 308\u001b[1;33m         \u001b[1;32mreturn\u001b[0m \u001b[0mself\u001b[0m\u001b[1;33m.\u001b[0m\u001b[0mpartial_fit\u001b[0m\u001b[1;33m(\u001b[0m\u001b[0mX\u001b[0m\u001b[1;33m,\u001b[0m \u001b[0my\u001b[0m\u001b[1;33m)\u001b[0m\u001b[1;33m\u001b[0m\u001b[0m\n\u001b[0m\u001b[0;32m    309\u001b[0m \u001b[1;33m\u001b[0m\u001b[0m\n\u001b[0;32m    310\u001b[0m     \u001b[1;32mdef\u001b[0m \u001b[0mpartial_fit\u001b[0m\u001b[1;33m(\u001b[0m\u001b[0mself\u001b[0m\u001b[1;33m,\u001b[0m \u001b[0mX\u001b[0m\u001b[1;33m,\u001b[0m \u001b[0my\u001b[0m\u001b[1;33m=\u001b[0m\u001b[1;32mNone\u001b[0m\u001b[1;33m)\u001b[0m\u001b[1;33m:\u001b[0m\u001b[1;33m\u001b[0m\u001b[0m\n",
      "\u001b[1;32m~\\Anaconda3\\lib\\site-packages\\sklearn\\preprocessing\\data.py\u001b[0m in \u001b[0;36mpartial_fit\u001b[1;34m(self, X, y)\u001b[0m\n\u001b[0;32m    332\u001b[0m \u001b[1;33m\u001b[0m\u001b[0m\n\u001b[0;32m    333\u001b[0m         X = check_array(X, copy=self.copy, warn_on_dtype=True,\n\u001b[1;32m--> 334\u001b[1;33m                         estimator=self, dtype=FLOAT_DTYPES)\n\u001b[0m\u001b[0;32m    335\u001b[0m \u001b[1;33m\u001b[0m\u001b[0m\n\u001b[0;32m    336\u001b[0m         \u001b[0mdata_min\u001b[0m \u001b[1;33m=\u001b[0m \u001b[0mnp\u001b[0m\u001b[1;33m.\u001b[0m\u001b[0mmin\u001b[0m\u001b[1;33m(\u001b[0m\u001b[0mX\u001b[0m\u001b[1;33m,\u001b[0m \u001b[0maxis\u001b[0m\u001b[1;33m=\u001b[0m\u001b[1;36m0\u001b[0m\u001b[1;33m)\u001b[0m\u001b[1;33m\u001b[0m\u001b[0m\n",
      "\u001b[1;32m~\\Anaconda3\\lib\\site-packages\\sklearn\\utils\\validation.py\u001b[0m in \u001b[0;36mcheck_array\u001b[1;34m(array, accept_sparse, dtype, order, copy, force_all_finite, ensure_2d, allow_nd, ensure_min_samples, ensure_min_features, warn_on_dtype, estimator)\u001b[0m\n\u001b[0;32m    439\u001b[0m                     \u001b[1;34m\"Reshape your data either using array.reshape(-1, 1) if \"\u001b[0m\u001b[1;33m\u001b[0m\u001b[0m\n\u001b[0;32m    440\u001b[0m                     \u001b[1;34m\"your data has a single feature or array.reshape(1, -1) \"\u001b[0m\u001b[1;33m\u001b[0m\u001b[0m\n\u001b[1;32m--> 441\u001b[1;33m                     \"if it contains a single sample.\".format(array))\n\u001b[0m\u001b[0;32m    442\u001b[0m             \u001b[0marray\u001b[0m \u001b[1;33m=\u001b[0m \u001b[0mnp\u001b[0m\u001b[1;33m.\u001b[0m\u001b[0matleast_2d\u001b[0m\u001b[1;33m(\u001b[0m\u001b[0marray\u001b[0m\u001b[1;33m)\u001b[0m\u001b[1;33m\u001b[0m\u001b[0m\n\u001b[0;32m    443\u001b[0m             \u001b[1;31m# To ensure that array flags are maintained\u001b[0m\u001b[1;33m\u001b[0m\u001b[1;33m\u001b[0m\u001b[0m\n",
      "\u001b[1;31mValueError\u001b[0m: Expected 2D array, got 1D array instead:\narray=[ 0.02  0.    0.    0.    0.    0.01  0.08  0.    0.    0.02  0.    0.\n  0.07  0.    0.03  0.    0.01  0.    0.07  0.    0.    0.    0.    0.07\n  0.04  0.03  0.    0.07  0.  ].\nReshape your data either using array.reshape(-1, 1) if your data has a single feature or array.reshape(1, -1) if it contains a single sample."
     ]
    }
   ],
   "source": [
    "\n",
    "\n",
    "features_from_model_scaled = pd.DataFrame(feature_names,columns=['feature_name'])\n",
    "\n",
    "scaler = MinMaxScaler(copy=True, feature_range=(0, 1))\n",
    "\n",
    "\n",
    "        "
   ]
  },
  {
   "cell_type": "code",
   "execution_count": null,
   "metadata": {
    "collapsed": true
   },
   "outputs": [],
   "source": []
  },
  {
   "cell_type": "code",
   "execution_count": null,
   "metadata": {
    "collapsed": true
   },
   "outputs": [],
   "source": [
    "import matplotlib.pyplot as plt\n",
    "print(\"Optimal number of features : {}\".format(rfecv.n_features_))\n",
    "\n",
    "# Plot number of features VS. cross-validation scores\n",
    "plt.figure()\n",
    "plt.xlabel(\"Number of features selected\")\n",
    "plt.ylabel(\"Cross validation score (nb of correct classifications)\")\n",
    "plt.plot(range(1, len(rfecv.grid_scores_) + 1), rfecv.grid_scores_)\n",
    "plt.show()"
   ]
  },
  {
   "cell_type": "code",
   "execution_count": 62,
   "metadata": {},
   "outputs": [
    {
     "data": {
      "text/plain": [
       "RFECV(cv=2,\n",
       "   estimator=SVC(C=0.1, cache_size=200, class_weight=None, coef0=0.0,\n",
       "  decision_function_shape='ovr', degree=3, gamma='auto', kernel='linear',\n",
       "  max_iter=-1, probability=False, random_state=None, shrinking=True,\n",
       "  tol=0.001, verbose=False),\n",
       "   n_jobs=1, scoring='recall', step=1, verbose=0)"
      ]
     },
     "execution_count": 62,
     "metadata": {},
     "output_type": "execute_result"
    }
   ],
   "source": [
    "rfecv = RFECV(estimator=svc,step=1, cv=2,scoring='recall')\n",
    "rfecv.fit(features_train, labels_train)"
   ]
  },
  {
   "cell_type": "code",
   "execution_count": null,
   "metadata": {
    "collapsed": true
   },
   "outputs": [],
   "source": [
    "print(\"Optimal number of features : {}\".format(rfecv.n_features_))\n",
    "\n",
    "# Plot number of features VS. cross-validation scores\n",
    "plt.figure()\n",
    "plt.xlabel(\"Number of features selected\")\n",
    "plt.ylabel(\"Cross validation score (nb of correct classifications)\")\n",
    "plt.plot(range(1, len(rfecv.grid_scores_) + 1), rfecv.grid_scores_)\n",
    "plt.show()"
   ]
  },
  {
   "cell_type": "code",
   "execution_count": null,
   "metadata": {
    "collapsed": true
   },
   "outputs": [],
   "source": [
    "rfecv.support_\n",
    "rfecv.ranking_"
   ]
  },
  {
   "cell_type": "code",
   "execution_count": null,
   "metadata": {
    "collapsed": true
   },
   "outputs": [],
   "source": [
    "def print_feature_ranks(names,scores,method=''):\n",
    "    \"\"\" \n",
    "    print the ranked feature names and their scores from feature selection\n",
    "    \n",
    "    returns a data frame with feature names and its corresponding rank and scores\n",
    "    \"\"\"\n",
    "    ranked_cols = pd.DataFrame(np.column_stack([names,scores]),columns=['feature_name','scores'])\n",
    "    \n",
    "    \n",
    "    ranked_col[]\n",
    "    \n",
    "    ranked_cols = ranked_cols.sort_values(by='scores',ascending=False)\n",
    "    ranked_cols['rank_order'] = ranked_cols.scores\n",
    "        #if\n",
    "    else:\n",
    "        ranked_cols = ranked_cols.sort_values(by='scores',ascending=False)   \n",
    "        ranked_cols['rank_order'] = list(range(1,ranked_cols.shape[0]+1))    \n",
    "        \n",
    "    return(ranked_cols)"
   ]
  },
  {
   "cell_type": "code",
   "execution_count": null,
   "metadata": {
    "collapsed": true
   },
   "outputs": [],
   "source": [
    "## Let's select feature based on forward-backward\n",
    "\n",
    "from sklearn.feature_selection import SelectFromModel\n"
   ]
  },
  {
   "cell_type": "code",
   "execution_count": null,
   "metadata": {
    "collapsed": true
   },
   "outputs": [],
   "source": [
    "features_ranked =print_feature_ranks(feature_names,rf_fit.feature_importances_)\n",
    "#features_ranked.sort_values(by='scores',ascending=False)\n",
    "#features_ranked['rank']=np.arange(1,features_ranked.shape[0]+1)\n",
    "#features_ranked"
   ]
  },
  {
   "cell_type": "code",
   "execution_count": null,
   "metadata": {
    "collapsed": true
   },
   "outputs": [],
   "source": [
    "features_score = pd.DataFrame()\n",
    "features_score['feature_name']=feature_names"
   ]
  },
  {
   "cell_type": "code",
   "execution_count": null,
   "metadata": {
    "collapsed": true
   },
   "outputs": [],
   "source": [
    "\n",
    "features_score['rf'] = features_ranked['rank_order']"
   ]
  },
  {
   "cell_type": "code",
   "execution_count": null,
   "metadata": {
    "collapsed": true
   },
   "outputs": [],
   "source": [
    "from sklearn.linear_model import Lasso,RandomizedLasso,LassoCV\n",
    "\n",
    "lasso = Lasso(alpha=100)\n",
    "lasso_fit = lasso.fit(features_train,labels_train)\n",
    "features_ranked =print_feature_ranks(feature_names,abs(lasso_fit.coef_))\n",
    "#print(features_ranked)\n",
    "features_score['lasso']=features_ranked.rank_order\n",
    "#features_score"
   ]
  },
  {
   "cell_type": "code",
   "execution_count": 71,
   "metadata": {},
   "outputs": [
    {
     "data": {
      "text/plain": [
       "0.25"
      ]
     },
     "execution_count": 71,
     "metadata": {},
     "output_type": "execute_result"
    }
   ],
   "source": []
  }
 ],
 "metadata": {
  "kernelspec": {
   "display_name": "Python 3",
   "language": "python",
   "name": "python3"
  },
  "language_info": {
   "codemirror_mode": {
    "name": "ipython",
    "version": 3
   },
   "file_extension": ".py",
   "mimetype": "text/x-python",
   "name": "python",
   "nbconvert_exporter": "python",
   "pygments_lexer": "ipython3",
   "version": "3.6.3"
  }
 },
 "nbformat": 4,
 "nbformat_minor": 2
}
